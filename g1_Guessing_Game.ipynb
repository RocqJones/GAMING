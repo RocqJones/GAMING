{
 "cells": [
  {
   "cell_type": "code",
   "execution_count": null,
   "metadata": {},
   "outputs": [],
   "source": [
    "#This plays only one game\n",
    "import random\n",
    "\n",
    "random_number = random.randint(1,10)\n",
    "guess = None\n",
    "\n",
    "while guess != random_number:  #while loop will repeat the loop    \n",
    "    guess = input(\"Pick any number from 1 to 10: \")\n",
    "    guess = int(guess)  #to eliminate type error '<'\n",
    "    if guess < random_number:\n",
    "        print(\"NUMBER TOO LOW!\")\n",
    "    elif guess > random_number:\n",
    "        print(\"NUMBER TOO HIGH!\"\n",
    "    else:\n",
    "        print(\"YOU GOT IT!\")\n",
    "       \n",
    "print(random_number)"
   ]
  },
  {
   "cell_type": "code",
   "execution_count": null,
   "metadata": {},
   "outputs": [],
   "source": [
    "#This plays many games with (y/n)\n",
    "import random\n",
    "\n",
    "random_number = random.randint(1,10)\n",
    "guess = None\n",
    "\n",
    "while True:    \n",
    "    guess = input(\"Pick any number from 1 to 10: \")\n",
    "    guess = int(guess)  #to eliminate type error '<'\n",
    "    if guess < random_number:\n",
    "        print(\"NUMBER TOO LOW!\")\n",
    "    elif guess > random_number:\n",
    "        print(f\"NUMBER TOO HIGH!{random_number}\")\n",
    "    else:\n",
    "        print(\"YOU GOT IT!\")\n",
    "        print(random_number)\n",
    "        play_again = input(\"Do you want to play again? (y/n)\")\n",
    "        if play_again == \"y\":\n",
    "            random_number = random.randint(1,10)\n",
    "            guess = None\n",
    "        else:\n",
    "            print(\"Thank you for playing!\")\n",
    "            break"
   ]
  },
  {
   "cell_type": "code",
   "execution_count": null,
   "metadata": {},
   "outputs": [],
   "source": []
  }
 ],
 "metadata": {
  "kernelspec": {
   "display_name": "Python 3",
   "language": "python",
   "name": "python3"
  },
  "language_info": {
   "codemirror_mode": {
    "name": "ipython",
    "version": 3
   },
   "file_extension": ".py",
   "mimetype": "text/x-python",
   "name": "python",
   "nbconvert_exporter": "python",
   "pygments_lexer": "ipython3",
   "version": "3.6.5"
  }
 },
 "nbformat": 4,
 "nbformat_minor": 2
}
